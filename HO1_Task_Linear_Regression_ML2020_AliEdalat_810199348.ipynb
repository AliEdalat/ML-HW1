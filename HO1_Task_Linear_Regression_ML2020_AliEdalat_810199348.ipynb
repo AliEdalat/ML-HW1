{
  "nbformat": 4,
  "nbformat_minor": 0,
  "metadata": {
    "kernelspec": {
      "display_name": "Python 3",
      "language": "python",
      "name": "python3"
    },
    "language_info": {
      "codemirror_mode": {
        "name": "ipython",
        "version": 3
      },
      "file_extension": ".py",
      "mimetype": "text/x-python",
      "name": "python",
      "nbconvert_exporter": "python",
      "pygments_lexer": "ipython3",
      "version": "3.6.9-final"
    },
    "colab": {
      "name": "HO1 Task - Linear Regression - ML2020 - AliEdalat - 810199348.ipynb",
      "provenance": [],
      "collapsed_sections": [],
      "toc_visible": true
    }
  },
  "cells": [
    {
      "cell_type": "markdown",
      "metadata": {
        "id": "bzcG-P1WTI0k"
      },
      "source": [
        "<img src='http://arch.ut.ac.ir/documents/70819125/2017cca1-b036-41de-bcce-f7376699275b' alt=\"UT logo\" width=\"120\" height=\"120\" align=\"left\">\n",
        "\n",
        "<img src=\"https://lh3.googleusercontent.com/proxy/cSLk1ChQGIw3uNJlU7VF59LE_K96IrIirIoS9I-G3ZdNPW5Z-F7CohJvyI2YYQksMgFCykIAtTPPFPCrzFqC5ZnVPf-PDrblSvONUoL1WPz0yZzwbpCPBpiZAGYxDG6zO_nf\" width=\"120\" height=\"120\" align=\"right\">\n",
        "\n",
        "<h1 align=center><font size=5> <b><i>Machine Learning(Fall 2020)</b><br>Task 1</i></font></h1>"
      ]
    },
    {
      "cell_type": "markdown",
      "metadata": {
        "id": "4U0vbcLwTI0k"
      },
      "source": [
        "Import necessary libs"
      ]
    },
    {
      "cell_type": "code",
      "metadata": {
        "id": "YqLYpvmoTI0k"
      },
      "source": [
        "# Python ≥3.5 is required\n",
        "import sys\n",
        "assert sys.version_info >= (3, 5)\n",
        "\n",
        "# Scikit-Learn ≥0.20 is required\n",
        "import sklearn\n",
        "assert sklearn.__version__ >= \"0.20\"\n",
        "\n",
        "# Common imports\n",
        "import numpy as np\n",
        "import pandas as pd\n",
        "import os\n",
        "\n",
        "# to make this notebook's output stable across runs\n",
        "np.random.seed(42)\n",
        "\n",
        "# To plot pretty figures\n",
        "%matplotlib inline\n",
        "import matplotlib as mpl\n",
        "import matplotlib.pyplot as plt\n",
        "mpl.rc('axes', labelsize=14)\n",
        "mpl.rc('xtick', labelsize=12)\n",
        "mpl.rc('ytick', labelsize=12)\n",
        "\n",
        "# sklearn stuff\n",
        "from sklearn.metrics import mean_squared_error\n",
        "from sklearn.pipeline import Pipeline\n",
        "from sklearn.preprocessing import StandardScaler\n",
        "from sklearn.preprocessing import PolynomialFeatures\n",
        "from sklearn.linear_model import SGDRegressor\n",
        "from sklearn.linear_model import LinearRegression\n",
        "from sklearn.model_selection import train_test_split\n",
        "\n",
        "import warnings\n",
        "warnings.filterwarnings(action=\"ignore\", message=\"^internal gelsd\")"
      ],
      "execution_count": 1,
      "outputs": []
    },
    {
      "cell_type": "markdown",
      "metadata": {
        "id": "krmYK_fCTI0k"
      },
      "source": [
        "## Explain Data\n",
        "\n",
        "Affinity\n",
        "Spending data from <a src='https://www.affinity.solutions/'> affinity solutions </a>.\n",
        "\n",
        "* spend_all: Seasonally adjusted credit/debit card spending in all merchant category codes (MCC)\n",
        "\n",
        "* spend_acf: Seasonally adjusted credit/debit card spending in accomodation and food service (ACF)\n",
        "\n",
        "* spend_aer: Seasonally adjusted credit/debit card spending in arts, entertainment, and recreation (AER)\n",
        "\n",
        "* spend_apg: Seasonally adjusted credit/debit card spending in general merchandise stores (GEN)\n",
        "\n",
        "* spend_grf: Seasonally adjusted credit/debit card spending in grocery and food store (GRF)\n",
        "\n",
        "* spend_hcs: Seasonally adjusted credit/debit card spending in health care and social assistance (HCS)\n",
        "\n",
        "* spend_tws: Seasonally adjusted credit/debit card spending in transportation and warehousing (TWS)"
      ]
    },
    {
      "cell_type": "markdown",
      "metadata": {
        "id": "lqLW2iG5TI0l"
      },
      "source": [
        "## Load Data"
      ]
    },
    {
      "cell_type": "code",
      "metadata": {
        "id": "gp206bQJTI0l"
      },
      "source": [
        "PATH_TO_DATA = 'Affinity-City-Daily-final.csv'\n",
        "Data = pd.read_csv(PATH_TO_DATA)"
      ],
      "execution_count": 2,
      "outputs": []
    },
    {
      "cell_type": "markdown",
      "metadata": {
        "id": "P_15fJ7rtdgI"
      },
      "source": [
        "\"spend_all\" is the sum of all expenses and income. For this reason, this feature has a high correlation with other features. Other features can be calculated through it. The presence of this feature affects the predictive performance of another column and makes the forecasting process insignificant. So we delete this feature."
      ]
    },
    {
      "cell_type": "code",
      "metadata": {
        "tags": [],
        "id": "QJRMezq7TI0l"
      },
      "source": [
        "Data = Data.drop(['spend_all'], axis=1)"
      ],
      "execution_count": 3,
      "outputs": []
    },
    {
      "cell_type": "markdown",
      "metadata": {
        "id": "qWjCqEEKvgeG"
      },
      "source": [
        "The correlation of each feature pair is given below. To get a sense of the impact of features on a feature."
      ]
    },
    {
      "cell_type": "code",
      "metadata": {
        "colab": {
          "base_uri": "https://localhost:8080/",
          "height": 466
        },
        "id": "5UfbJ1XBURDv",
        "outputId": "430a5b13-2d1b-476b-dba7-ef863bbf8c9f"
      },
      "source": [
        "Data.corr()"
      ],
      "execution_count": 4,
      "outputs": [
        {
          "output_type": "execute_result",
          "data": {
            "text/html": [
              "<div>\n",
              "<style scoped>\n",
              "    .dataframe tbody tr th:only-of-type {\n",
              "        vertical-align: middle;\n",
              "    }\n",
              "\n",
              "    .dataframe tbody tr th {\n",
              "        vertical-align: top;\n",
              "    }\n",
              "\n",
              "    .dataframe thead th {\n",
              "        text-align: right;\n",
              "    }\n",
              "</style>\n",
              "<table border=\"1\" class=\"dataframe\">\n",
              "  <thead>\n",
              "    <tr style=\"text-align: right;\">\n",
              "      <th></th>\n",
              "      <th>year</th>\n",
              "      <th>month</th>\n",
              "      <th>day</th>\n",
              "      <th>cityid</th>\n",
              "      <th>spend_acf</th>\n",
              "      <th>spend_aer</th>\n",
              "      <th>spend_grf</th>\n",
              "      <th>spend_hcs</th>\n",
              "      <th>spend_tws</th>\n",
              "    </tr>\n",
              "  </thead>\n",
              "  <tbody>\n",
              "    <tr>\n",
              "      <th>year</th>\n",
              "      <td>NaN</td>\n",
              "      <td>NaN</td>\n",
              "      <td>NaN</td>\n",
              "      <td>NaN</td>\n",
              "      <td>NaN</td>\n",
              "      <td>NaN</td>\n",
              "      <td>NaN</td>\n",
              "      <td>NaN</td>\n",
              "      <td>NaN</td>\n",
              "    </tr>\n",
              "    <tr>\n",
              "      <th>month</th>\n",
              "      <td>NaN</td>\n",
              "      <td>1.000000e+00</td>\n",
              "      <td>-1.657978e-01</td>\n",
              "      <td>1.957970e-17</td>\n",
              "      <td>-0.351324</td>\n",
              "      <td>-0.546759</td>\n",
              "      <td>0.065230</td>\n",
              "      <td>-0.013919</td>\n",
              "      <td>-0.528587</td>\n",
              "    </tr>\n",
              "    <tr>\n",
              "      <th>day</th>\n",
              "      <td>NaN</td>\n",
              "      <td>-1.657978e-01</td>\n",
              "      <td>1.000000e+00</td>\n",
              "      <td>1.214741e-17</td>\n",
              "      <td>-0.019438</td>\n",
              "      <td>-0.010605</td>\n",
              "      <td>-0.012986</td>\n",
              "      <td>-0.052290</td>\n",
              "      <td>-0.015943</td>\n",
              "    </tr>\n",
              "    <tr>\n",
              "      <th>cityid</th>\n",
              "      <td>NaN</td>\n",
              "      <td>1.957970e-17</td>\n",
              "      <td>1.214741e-17</td>\n",
              "      <td>1.000000e+00</td>\n",
              "      <td>0.006232</td>\n",
              "      <td>0.022850</td>\n",
              "      <td>-0.051479</td>\n",
              "      <td>0.013522</td>\n",
              "      <td>0.012099</td>\n",
              "    </tr>\n",
              "    <tr>\n",
              "      <th>spend_acf</th>\n",
              "      <td>NaN</td>\n",
              "      <td>-3.513240e-01</td>\n",
              "      <td>-1.943797e-02</td>\n",
              "      <td>6.232209e-03</td>\n",
              "      <td>1.000000</td>\n",
              "      <td>0.826581</td>\n",
              "      <td>-0.204533</td>\n",
              "      <td>0.755661</td>\n",
              "      <td>0.918112</td>\n",
              "    </tr>\n",
              "    <tr>\n",
              "      <th>spend_aer</th>\n",
              "      <td>NaN</td>\n",
              "      <td>-5.467595e-01</td>\n",
              "      <td>-1.060523e-02</td>\n",
              "      <td>2.284981e-02</td>\n",
              "      <td>0.826581</td>\n",
              "      <td>1.000000</td>\n",
              "      <td>-0.215961</td>\n",
              "      <td>0.603598</td>\n",
              "      <td>0.870423</td>\n",
              "    </tr>\n",
              "    <tr>\n",
              "      <th>spend_grf</th>\n",
              "      <td>NaN</td>\n",
              "      <td>6.523021e-02</td>\n",
              "      <td>-1.298626e-02</td>\n",
              "      <td>-5.147877e-02</td>\n",
              "      <td>-0.204533</td>\n",
              "      <td>-0.215961</td>\n",
              "      <td>1.000000</td>\n",
              "      <td>-0.148552</td>\n",
              "      <td>-0.211140</td>\n",
              "    </tr>\n",
              "    <tr>\n",
              "      <th>spend_hcs</th>\n",
              "      <td>NaN</td>\n",
              "      <td>-1.391905e-02</td>\n",
              "      <td>-5.229010e-02</td>\n",
              "      <td>1.352168e-02</td>\n",
              "      <td>0.755661</td>\n",
              "      <td>0.603598</td>\n",
              "      <td>-0.148552</td>\n",
              "      <td>1.000000</td>\n",
              "      <td>0.668686</td>\n",
              "    </tr>\n",
              "    <tr>\n",
              "      <th>spend_tws</th>\n",
              "      <td>NaN</td>\n",
              "      <td>-5.285867e-01</td>\n",
              "      <td>-1.594320e-02</td>\n",
              "      <td>1.209942e-02</td>\n",
              "      <td>0.918112</td>\n",
              "      <td>0.870423</td>\n",
              "      <td>-0.211140</td>\n",
              "      <td>0.668686</td>\n",
              "      <td>1.000000</td>\n",
              "    </tr>\n",
              "  </tbody>\n",
              "</table>\n",
              "</div>"
            ],
            "text/plain": [
              "           year         month           day  ...  spend_grf  spend_hcs  spend_tws\n",
              "year        NaN           NaN           NaN  ...        NaN        NaN        NaN\n",
              "month       NaN  1.000000e+00 -1.657978e-01  ...   0.065230  -0.013919  -0.528587\n",
              "day         NaN -1.657978e-01  1.000000e+00  ...  -0.012986  -0.052290  -0.015943\n",
              "cityid      NaN  1.957970e-17  1.214741e-17  ...  -0.051479   0.013522   0.012099\n",
              "spend_acf   NaN -3.513240e-01 -1.943797e-02  ...  -0.204533   0.755661   0.918112\n",
              "spend_aer   NaN -5.467595e-01 -1.060523e-02  ...  -0.215961   0.603598   0.870423\n",
              "spend_grf   NaN  6.523021e-02 -1.298626e-02  ...   1.000000  -0.148552  -0.211140\n",
              "spend_hcs   NaN -1.391905e-02 -5.229010e-02  ...  -0.148552   1.000000   0.668686\n",
              "spend_tws   NaN -5.285867e-01 -1.594320e-02  ...  -0.211140   0.668686   1.000000\n",
              "\n",
              "[9 rows x 9 columns]"
            ]
          },
          "metadata": {
            "tags": []
          },
          "execution_count": 4
        }
      ]
    },
    {
      "cell_type": "code",
      "metadata": {
        "colab": {
          "base_uri": "https://localhost:8080/",
          "height": 415
        },
        "id": "oSicSCo2TI0l",
        "outputId": "7dde93a2-9578-4658-fcab-bb6a5094a701"
      },
      "source": [
        "Data"
      ],
      "execution_count": 5,
      "outputs": [
        {
          "output_type": "execute_result",
          "data": {
            "text/html": [
              "<div>\n",
              "<style scoped>\n",
              "    .dataframe tbody tr th:only-of-type {\n",
              "        vertical-align: middle;\n",
              "    }\n",
              "\n",
              "    .dataframe tbody tr th {\n",
              "        vertical-align: top;\n",
              "    }\n",
              "\n",
              "    .dataframe thead th {\n",
              "        text-align: right;\n",
              "    }\n",
              "</style>\n",
              "<table border=\"1\" class=\"dataframe\">\n",
              "  <thead>\n",
              "    <tr style=\"text-align: right;\">\n",
              "      <th></th>\n",
              "      <th>year</th>\n",
              "      <th>month</th>\n",
              "      <th>day</th>\n",
              "      <th>cityid</th>\n",
              "      <th>spend_acf</th>\n",
              "      <th>spend_aer</th>\n",
              "      <th>spend_grf</th>\n",
              "      <th>spend_hcs</th>\n",
              "      <th>spend_tws</th>\n",
              "    </tr>\n",
              "  </thead>\n",
              "  <tbody>\n",
              "    <tr>\n",
              "      <th>0</th>\n",
              "      <td>2020</td>\n",
              "      <td>1</td>\n",
              "      <td>13</td>\n",
              "      <td>1</td>\n",
              "      <td>-0.00322</td>\n",
              "      <td>0.00706</td>\n",
              "      <td>0.00389</td>\n",
              "      <td>-0.03550</td>\n",
              "      <td>-0.00510</td>\n",
              "    </tr>\n",
              "    <tr>\n",
              "      <th>1</th>\n",
              "      <td>2020</td>\n",
              "      <td>1</td>\n",
              "      <td>13</td>\n",
              "      <td>2</td>\n",
              "      <td>0.00660</td>\n",
              "      <td>-0.07790</td>\n",
              "      <td>-0.00956</td>\n",
              "      <td>0.06040</td>\n",
              "      <td>-0.03250</td>\n",
              "    </tr>\n",
              "    <tr>\n",
              "      <th>2</th>\n",
              "      <td>2020</td>\n",
              "      <td>1</td>\n",
              "      <td>13</td>\n",
              "      <td>3</td>\n",
              "      <td>-0.10400</td>\n",
              "      <td>0.03340</td>\n",
              "      <td>0.01240</td>\n",
              "      <td>-0.00547</td>\n",
              "      <td>0.01810</td>\n",
              "    </tr>\n",
              "    <tr>\n",
              "      <th>3</th>\n",
              "      <td>2020</td>\n",
              "      <td>1</td>\n",
              "      <td>13</td>\n",
              "      <td>4</td>\n",
              "      <td>-0.03560</td>\n",
              "      <td>-0.15000</td>\n",
              "      <td>0.00405</td>\n",
              "      <td>0.03050</td>\n",
              "      <td>-0.01790</td>\n",
              "    </tr>\n",
              "    <tr>\n",
              "      <th>4</th>\n",
              "      <td>2020</td>\n",
              "      <td>1</td>\n",
              "      <td>13</td>\n",
              "      <td>5</td>\n",
              "      <td>-0.00770</td>\n",
              "      <td>-0.04040</td>\n",
              "      <td>0.00888</td>\n",
              "      <td>-0.00653</td>\n",
              "      <td>0.00175</td>\n",
              "    </tr>\n",
              "    <tr>\n",
              "      <th>...</th>\n",
              "      <td>...</td>\n",
              "      <td>...</td>\n",
              "      <td>...</td>\n",
              "      <td>...</td>\n",
              "      <td>...</td>\n",
              "      <td>...</td>\n",
              "      <td>...</td>\n",
              "      <td>...</td>\n",
              "      <td>...</td>\n",
              "    </tr>\n",
              "    <tr>\n",
              "      <th>12245</th>\n",
              "      <td>2020</td>\n",
              "      <td>9</td>\n",
              "      <td>13</td>\n",
              "      <td>49</td>\n",
              "      <td>-0.32600</td>\n",
              "      <td>-0.42000</td>\n",
              "      <td>-0.09140</td>\n",
              "      <td>-0.03690</td>\n",
              "      <td>-0.57100</td>\n",
              "    </tr>\n",
              "    <tr>\n",
              "      <th>12246</th>\n",
              "      <td>2020</td>\n",
              "      <td>9</td>\n",
              "      <td>13</td>\n",
              "      <td>50</td>\n",
              "      <td>-0.19800</td>\n",
              "      <td>-0.68700</td>\n",
              "      <td>0.37900</td>\n",
              "      <td>-0.35200</td>\n",
              "      <td>-0.55500</td>\n",
              "    </tr>\n",
              "    <tr>\n",
              "      <th>12247</th>\n",
              "      <td>2020</td>\n",
              "      <td>9</td>\n",
              "      <td>13</td>\n",
              "      <td>51</td>\n",
              "      <td>-0.00545</td>\n",
              "      <td>-0.29800</td>\n",
              "      <td>0.21200</td>\n",
              "      <td>0.61400</td>\n",
              "      <td>-0.32400</td>\n",
              "    </tr>\n",
              "    <tr>\n",
              "      <th>12248</th>\n",
              "      <td>2020</td>\n",
              "      <td>9</td>\n",
              "      <td>13</td>\n",
              "      <td>52</td>\n",
              "      <td>-0.42000</td>\n",
              "      <td>-0.73100</td>\n",
              "      <td>0.16200</td>\n",
              "      <td>-0.35200</td>\n",
              "      <td>-0.56800</td>\n",
              "    </tr>\n",
              "    <tr>\n",
              "      <th>12249</th>\n",
              "      <td>2020</td>\n",
              "      <td>9</td>\n",
              "      <td>13</td>\n",
              "      <td>53</td>\n",
              "      <td>-0.11100</td>\n",
              "      <td>-0.69600</td>\n",
              "      <td>0.01450</td>\n",
              "      <td>-0.09160</td>\n",
              "      <td>-0.39000</td>\n",
              "    </tr>\n",
              "  </tbody>\n",
              "</table>\n",
              "<p>12250 rows × 9 columns</p>\n",
              "</div>"
            ],
            "text/plain": [
              "       year  month  day  cityid  ...  spend_aer  spend_grf  spend_hcs  spend_tws\n",
              "0      2020      1   13       1  ...    0.00706    0.00389   -0.03550   -0.00510\n",
              "1      2020      1   13       2  ...   -0.07790   -0.00956    0.06040   -0.03250\n",
              "2      2020      1   13       3  ...    0.03340    0.01240   -0.00547    0.01810\n",
              "3      2020      1   13       4  ...   -0.15000    0.00405    0.03050   -0.01790\n",
              "4      2020      1   13       5  ...   -0.04040    0.00888   -0.00653    0.00175\n",
              "...     ...    ...  ...     ...  ...        ...        ...        ...        ...\n",
              "12245  2020      9   13      49  ...   -0.42000   -0.09140   -0.03690   -0.57100\n",
              "12246  2020      9   13      50  ...   -0.68700    0.37900   -0.35200   -0.55500\n",
              "12247  2020      9   13      51  ...   -0.29800    0.21200    0.61400   -0.32400\n",
              "12248  2020      9   13      52  ...   -0.73100    0.16200   -0.35200   -0.56800\n",
              "12249  2020      9   13      53  ...   -0.69600    0.01450   -0.09160   -0.39000\n",
              "\n",
              "[12250 rows x 9 columns]"
            ]
          },
          "metadata": {
            "tags": []
          },
          "execution_count": 5
        }
      ]
    },
    {
      "cell_type": "markdown",
      "metadata": {
        "id": "iotheSJZwXOH"
      },
      "source": [
        "The target attribute and the desired attributes for prediction of target are set out below. target is \"spend_tws\""
      ]
    },
    {
      "cell_type": "code",
      "metadata": {
        "colab": {
          "base_uri": "https://localhost:8080/"
        },
        "id": "juZkN7CmU31c",
        "outputId": "b772e6fe-3874-40d7-97b5-aa2003e5caf2"
      },
      "source": [
        "target = 'spend_tws'\n",
        "col_list = list(Data.columns)\n",
        "drop_col = ['year','month','day','cityid',target]\n",
        "\n",
        "for i in drop_col:\n",
        "  col_list.remove(i)\n",
        "\n",
        "col_list"
      ],
      "execution_count": 6,
      "outputs": [
        {
          "output_type": "execute_result",
          "data": {
            "text/plain": [
              "['spend_acf', 'spend_aer', 'spend_grf', 'spend_hcs']"
            ]
          },
          "metadata": {
            "tags": []
          },
          "execution_count": 6
        }
      ]
    },
    {
      "cell_type": "code",
      "metadata": {
        "id": "PAZNcgY5TI0m"
      },
      "source": [
        "X = Data[col_list]\n",
        "y = Data[target]"
      ],
      "execution_count": 7,
      "outputs": []
    },
    {
      "cell_type": "code",
      "metadata": {
        "colab": {
          "base_uri": "https://localhost:8080/",
          "height": 415
        },
        "id": "KbyR-52FTI0m",
        "outputId": "60c21abe-014f-48b3-aea2-d557bf843f90"
      },
      "source": [
        "X"
      ],
      "execution_count": 8,
      "outputs": [
        {
          "output_type": "execute_result",
          "data": {
            "text/html": [
              "<div>\n",
              "<style scoped>\n",
              "    .dataframe tbody tr th:only-of-type {\n",
              "        vertical-align: middle;\n",
              "    }\n",
              "\n",
              "    .dataframe tbody tr th {\n",
              "        vertical-align: top;\n",
              "    }\n",
              "\n",
              "    .dataframe thead th {\n",
              "        text-align: right;\n",
              "    }\n",
              "</style>\n",
              "<table border=\"1\" class=\"dataframe\">\n",
              "  <thead>\n",
              "    <tr style=\"text-align: right;\">\n",
              "      <th></th>\n",
              "      <th>spend_acf</th>\n",
              "      <th>spend_aer</th>\n",
              "      <th>spend_grf</th>\n",
              "      <th>spend_hcs</th>\n",
              "    </tr>\n",
              "  </thead>\n",
              "  <tbody>\n",
              "    <tr>\n",
              "      <th>0</th>\n",
              "      <td>-0.00322</td>\n",
              "      <td>0.00706</td>\n",
              "      <td>0.00389</td>\n",
              "      <td>-0.03550</td>\n",
              "    </tr>\n",
              "    <tr>\n",
              "      <th>1</th>\n",
              "      <td>0.00660</td>\n",
              "      <td>-0.07790</td>\n",
              "      <td>-0.00956</td>\n",
              "      <td>0.06040</td>\n",
              "    </tr>\n",
              "    <tr>\n",
              "      <th>2</th>\n",
              "      <td>-0.10400</td>\n",
              "      <td>0.03340</td>\n",
              "      <td>0.01240</td>\n",
              "      <td>-0.00547</td>\n",
              "    </tr>\n",
              "    <tr>\n",
              "      <th>3</th>\n",
              "      <td>-0.03560</td>\n",
              "      <td>-0.15000</td>\n",
              "      <td>0.00405</td>\n",
              "      <td>0.03050</td>\n",
              "    </tr>\n",
              "    <tr>\n",
              "      <th>4</th>\n",
              "      <td>-0.00770</td>\n",
              "      <td>-0.04040</td>\n",
              "      <td>0.00888</td>\n",
              "      <td>-0.00653</td>\n",
              "    </tr>\n",
              "    <tr>\n",
              "      <th>...</th>\n",
              "      <td>...</td>\n",
              "      <td>...</td>\n",
              "      <td>...</td>\n",
              "      <td>...</td>\n",
              "    </tr>\n",
              "    <tr>\n",
              "      <th>12245</th>\n",
              "      <td>-0.32600</td>\n",
              "      <td>-0.42000</td>\n",
              "      <td>-0.09140</td>\n",
              "      <td>-0.03690</td>\n",
              "    </tr>\n",
              "    <tr>\n",
              "      <th>12246</th>\n",
              "      <td>-0.19800</td>\n",
              "      <td>-0.68700</td>\n",
              "      <td>0.37900</td>\n",
              "      <td>-0.35200</td>\n",
              "    </tr>\n",
              "    <tr>\n",
              "      <th>12247</th>\n",
              "      <td>-0.00545</td>\n",
              "      <td>-0.29800</td>\n",
              "      <td>0.21200</td>\n",
              "      <td>0.61400</td>\n",
              "    </tr>\n",
              "    <tr>\n",
              "      <th>12248</th>\n",
              "      <td>-0.42000</td>\n",
              "      <td>-0.73100</td>\n",
              "      <td>0.16200</td>\n",
              "      <td>-0.35200</td>\n",
              "    </tr>\n",
              "    <tr>\n",
              "      <th>12249</th>\n",
              "      <td>-0.11100</td>\n",
              "      <td>-0.69600</td>\n",
              "      <td>0.01450</td>\n",
              "      <td>-0.09160</td>\n",
              "    </tr>\n",
              "  </tbody>\n",
              "</table>\n",
              "<p>12250 rows × 4 columns</p>\n",
              "</div>"
            ],
            "text/plain": [
              "       spend_acf  spend_aer  spend_grf  spend_hcs\n",
              "0       -0.00322    0.00706    0.00389   -0.03550\n",
              "1        0.00660   -0.07790   -0.00956    0.06040\n",
              "2       -0.10400    0.03340    0.01240   -0.00547\n",
              "3       -0.03560   -0.15000    0.00405    0.03050\n",
              "4       -0.00770   -0.04040    0.00888   -0.00653\n",
              "...          ...        ...        ...        ...\n",
              "12245   -0.32600   -0.42000   -0.09140   -0.03690\n",
              "12246   -0.19800   -0.68700    0.37900   -0.35200\n",
              "12247   -0.00545   -0.29800    0.21200    0.61400\n",
              "12248   -0.42000   -0.73100    0.16200   -0.35200\n",
              "12249   -0.11100   -0.69600    0.01450   -0.09160\n",
              "\n",
              "[12250 rows x 4 columns]"
            ]
          },
          "metadata": {
            "tags": []
          },
          "execution_count": 8
        }
      ]
    },
    {
      "cell_type": "code",
      "metadata": {
        "colab": {
          "base_uri": "https://localhost:8080/"
        },
        "id": "nYUc_XWXTI0m",
        "outputId": "acc5bcd6-1f1e-486f-be85-071fccebfdb8"
      },
      "source": [
        "y"
      ],
      "execution_count": 9,
      "outputs": [
        {
          "output_type": "execute_result",
          "data": {
            "text/plain": [
              "0       -0.00510\n",
              "1       -0.03250\n",
              "2        0.01810\n",
              "3       -0.01790\n",
              "4        0.00175\n",
              "          ...   \n",
              "12245   -0.57100\n",
              "12246   -0.55500\n",
              "12247   -0.32400\n",
              "12248   -0.56800\n",
              "12249   -0.39000\n",
              "Name: spend_tws, Length: 12250, dtype: float64"
            ]
          },
          "metadata": {
            "tags": []
          },
          "execution_count": 9
        }
      ]
    },
    {
      "cell_type": "markdown",
      "metadata": {
        "id": "gQFZbKTkTI0n"
      },
      "source": [
        "## Split Data to train and test"
      ]
    },
    {
      "cell_type": "code",
      "metadata": {
        "id": "Uj3Wnn_nTI0n"
      },
      "source": [
        "def split(X, y, train_size=0.5):\n",
        "    mid = int(len(y)*train_size)\n",
        "    X_train = X[:mid]\n",
        "    X_test  = X[mid:]\n",
        "    y_train = y[:mid]\n",
        "    y_test  = y[mid:]\n",
        "    return X_train, X_test, y_train, y_test"
      ],
      "execution_count": 10,
      "outputs": []
    },
    {
      "cell_type": "code",
      "metadata": {
        "id": "xjt4Ih25TI0n"
      },
      "source": [
        "X_train, X_test, y_train, y_test = split(X, y)"
      ],
      "execution_count": 11,
      "outputs": []
    },
    {
      "cell_type": "code",
      "metadata": {
        "colab": {
          "base_uri": "https://localhost:8080/"
        },
        "id": "F9tg9xLqTI0n",
        "outputId": "bdd31a2b-cc7e-4f5d-f352-6cd967ca6c0a"
      },
      "source": [
        "X_train.shape , X_test.shape"
      ],
      "execution_count": 12,
      "outputs": [
        {
          "output_type": "execute_result",
          "data": {
            "text/plain": [
              "((6125, 4), (6125, 4))"
            ]
          },
          "metadata": {
            "tags": []
          },
          "execution_count": 12
        }
      ]
    },
    {
      "cell_type": "code",
      "metadata": {
        "colab": {
          "base_uri": "https://localhost:8080/"
        },
        "id": "ajsd7luzTI0o",
        "outputId": "0d498d3f-5589-4f04-c797-084084defd2e"
      },
      "source": [
        "y_train.shape, y_test.shape"
      ],
      "execution_count": 13,
      "outputs": [
        {
          "output_type": "execute_result",
          "data": {
            "text/plain": [
              "((6125,), (6125,))"
            ]
          },
          "metadata": {
            "tags": []
          },
          "execution_count": 13
        }
      ]
    },
    {
      "cell_type": "markdown",
      "metadata": {
        "id": "tbEKHIrOTI0o"
      },
      "source": [
        "## Train Regression Models"
      ]
    },
    {
      "cell_type": "code",
      "metadata": {
        "id": "4nHhYJ3DTI0o"
      },
      "source": [
        "def vis(y, y_pred):\n",
        "    temp = [i for i in range(len(y))]\n",
        "    plt.plot(temp, y_pred, color = 'blue', label='$Estimated Value$')\n",
        "    plt.plot(temp, y, color= 'green', label='$True Value$')\n",
        "    plt.grid()\n",
        "    plt.legend()\n",
        "    plt.title('Measured and estimated values')\n",
        "    plt.xlabel('Time')\n",
        "    plt.ylabel('Value')"
      ],
      "execution_count": 14,
      "outputs": []
    },
    {
      "cell_type": "markdown",
      "metadata": {
        "id": "jTXP53AOw89o"
      },
      "source": [
        "using linear regression to predict target"
      ]
    },
    {
      "cell_type": "code",
      "metadata": {
        "id": "787hC65vTI0o"
      },
      "source": [
        "p_reg= Pipeline([\n",
        "        (\"std_scaler\", StandardScaler()),\n",
        "        (\"poly_features\", PolynomialFeatures(degree=1, include_bias=False)),\n",
        "        (\"lin_reg\", LinearRegression()),\n",
        "    ])"
      ],
      "execution_count": 15,
      "outputs": []
    },
    {
      "cell_type": "markdown",
      "metadata": {
        "id": "UnmBOLvrxVSG"
      },
      "source": [
        "calculate mse to evaluate model in train and test"
      ]
    },
    {
      "cell_type": "code",
      "metadata": {
        "colab": {
          "base_uri": "https://localhost:8080/"
        },
        "id": "KB8u0bSUTI0o",
        "outputId": "8eef75ef-21be-469e-84d6-507835c3e119"
      },
      "source": [
        "p_reg.fit(X_train, y_train)\n",
        "y_train_pred = p_reg.predict(X_train)\n",
        "mean_squared_error(y_train, y_train_pred)"
      ],
      "execution_count": 16,
      "outputs": [
        {
          "output_type": "execute_result",
          "data": {
            "text/plain": [
              "0.006645750099123938"
            ]
          },
          "metadata": {
            "tags": []
          },
          "execution_count": 16
        }
      ]
    },
    {
      "cell_type": "code",
      "metadata": {
        "colab": {
          "base_uri": "https://localhost:8080/"
        },
        "id": "CI3DzsL_TI0p",
        "outputId": "0b83a06b-3294-49ce-bda9-d76799300a26"
      },
      "source": [
        "y_test_pred = p_reg.predict(X_test)\n",
        "mean_squared_error(y_test, y_test_pred)"
      ],
      "execution_count": 17,
      "outputs": [
        {
          "output_type": "execute_result",
          "data": {
            "text/plain": [
              "0.012887329819480323"
            ]
          },
          "metadata": {
            "tags": []
          },
          "execution_count": 17
        }
      ]
    },
    {
      "cell_type": "markdown",
      "metadata": {
        "id": "13gwlIb6xhxD"
      },
      "source": [
        "visualize model prediction and actual values for train and test data. values ​​are displayed as time goes on."
      ]
    },
    {
      "cell_type": "code",
      "metadata": {
        "scrolled": true,
        "colab": {
          "base_uri": "https://localhost:8080/",
          "height": 302
        },
        "id": "IB7JocTGTI0p",
        "outputId": "5f82ef2e-944f-4de1-a5f8-8aec1703ead7"
      },
      "source": [
        "vis(y_train[0:20], y_train_pred[0:20]) "
      ],
      "execution_count": 18,
      "outputs": [
        {
          "output_type": "display_data",
          "data": {
            "image/png": "[encoded data removed]",
            "text/plain": [
              "<Figure size 432x288 with 1 Axes>"
            ]
          },
          "metadata": {
            "tags": [],
            "needs_background": "light"
          }
        }
      ]
    },
    {
      "cell_type": "code",
      "metadata": {
        "colab": {
          "base_uri": "https://localhost:8080/",
          "height": 302
        },
        "id": "DK5MdWPVTI0p",
        "outputId": "54302448-9f1f-4223-cbe7-fcc9fc708732"
      },
      "source": [
        "vis(y_test[200:250], y_test_pred[200:250]) "
      ],
      "execution_count": 19,
      "outputs": [
        {
          "output_type": "display_data",
          "data": {
            "image/png": "[encoded data removed]",
            "text/plain": [
              "<Figure size 432x288 with 1 Axes>"
            ]
          },
          "metadata": {
            "tags": [],
            "needs_background": "light"
          }
        }
      ]
    },
    {
      "cell_type": "markdown",
      "metadata": {
        "id": "8Dz3McYJTI0q"
      },
      "source": [
        "## Find the appropriate poly degree"
      ]
    },
    {
      "cell_type": "markdown",
      "metadata": {
        "id": "pshfVzy8yF-r"
      },
      "source": [
        "mse of linear regression on test is high. for this reason, the data pattern seems to have a higher degree than line polynomials. we fit 1 to 5 degree polynomials to the data to get the optimal degree of fit."
      ]
    },
    {
      "cell_type": "code",
      "metadata": {
        "id": "IemVtVj6TI0q"
      },
      "source": [
        "test_mses = []\n",
        "train_mses = []\n",
        "degrees = [i for i in range(1, 6)]\n",
        "for d in degrees:\n",
        "    p_reg= Pipeline([\n",
        "            (\"std_scaler\", StandardScaler()),\n",
        "            (\"poly_features\", PolynomialFeatures(degree=d, include_bias=False)),\n",
        "            (\"lin_reg\", LinearRegression()),\n",
        "        ])\n",
        "    p_reg.fit(X_train, y_train)\n",
        "    y_train_pred = p_reg.predict(X_train)\n",
        "    train_mses.append(mean_squared_error(y_train, y_train_pred))\n",
        "    y_test_pred = p_reg.predict(X_test)\n",
        "    test_mses.append(mean_squared_error(y_test, y_test_pred))"
      ],
      "execution_count": 20,
      "outputs": []
    },
    {
      "cell_type": "code",
      "metadata": {
        "colab": {
          "base_uri": "https://localhost:8080/",
          "height": 303
        },
        "id": "UUxjM8s2TI0q",
        "outputId": "91651162-60f6-4d0a-e798-8fdee24a00e8"
      },
      "source": [
        "plt.plot(degrees, train_mses, label='train')\n",
        "plt.plot(degrees, test_mses, label='test')\n",
        "plt.grid()\n",
        "plt.legend()\n",
        "plt.ylabel('mse loss')\n",
        "plt.xlabel('degree')"
      ],
      "execution_count": 21,
      "outputs": [
        {
          "output_type": "execute_result",
          "data": {
            "text/plain": [
              "Text(0.5, 0, 'degree')"
            ]
          },
          "metadata": {
            "tags": []
          },
          "execution_count": 21
        },
        {
          "output_type": "display_data",
          "data": {
            "image/png": "[encoded data removed]",
            "text/plain": [
              "<Figure size 432x288 with 1 Axes>"
            ]
          },
          "metadata": {
            "tags": [],
            "needs_background": "light"
          }
        }
      ]
    },
    {
      "cell_type": "markdown",
      "metadata": {
        "id": "ARYnWU14TI0q"
      },
      "source": [
        "## use the best model"
      ]
    },
    {
      "cell_type": "markdown",
      "metadata": {
        "id": "QSRitjklzOuc"
      },
      "source": [
        "Based on mse test data for different degrees, degree 3 is optimal. For degree 3, we obtain mse of test and training data. We draw the model prediction for the test and training data as before. Examining the graphs helps to understand the quality of the model in the forecast."
      ]
    },
    {
      "cell_type": "code",
      "metadata": {
        "colab": {
          "base_uri": "https://localhost:8080/"
        },
        "id": "BXP7QN_MTI0q",
        "outputId": "72ba6ec0-ccb2-45b5-c1ee-f9575bdc1dd3"
      },
      "source": [
        "p_reg= Pipeline([\n",
        "            (\"std_scaler\", StandardScaler()),\n",
        "            (\"poly_features\", PolynomialFeatures(degree=3, include_bias=False)),\n",
        "            (\"lin_reg\", LinearRegression()),\n",
        "        ])\n",
        "p_reg.fit(X_train, y_train)\n",
        "y_train_pred = p_reg.predict(X_train)\n",
        "y_test_pred = p_reg.predict(X_test)\n",
        "mean_squared_error(y_train, y_train_pred), mean_squared_error(y_test, y_test_pred)"
      ],
      "execution_count": 22,
      "outputs": [
        {
          "output_type": "execute_result",
          "data": {
            "text/plain": [
              "(0.005595414421579764, 0.009718986150753927)"
            ]
          },
          "metadata": {
            "tags": []
          },
          "execution_count": 22
        }
      ]
    },
    {
      "cell_type": "code",
      "metadata": {
        "colab": {
          "base_uri": "https://localhost:8080/",
          "height": 302
        },
        "id": "Kog3opXRTI0r",
        "outputId": "05a5b418-3456-40e5-b8ee-3eb76d8ff1a2"
      },
      "source": [
        "vis(y_train[0:100], y_train_pred[0:100]) "
      ],
      "execution_count": 23,
      "outputs": [
        {
          "output_type": "display_data",
          "data": {
            "image/png": "[encoded data removed]",
            "text/plain": [
              "<Figure size 432x288 with 1 Axes>"
            ]
          },
          "metadata": {
            "tags": [],
            "needs_background": "light"
          }
        }
      ]
    },
    {
      "cell_type": "code",
      "metadata": {
        "colab": {
          "base_uri": "https://localhost:8080/",
          "height": 302
        },
        "id": "MLy1rIM-TI0r",
        "outputId": "eb4c5c6f-0f50-4277-9883-e94a873e1ec8"
      },
      "source": [
        "vis(y_test[200:300], y_test_pred[200:300]) "
      ],
      "execution_count": 24,
      "outputs": [
        {
          "output_type": "display_data",
          "data": {
            "image/png": "[encoded data removed]",
            "text/plain": [
              "<Figure size 432x288 with 1 Axes>"
            ]
          },
          "metadata": {
            "tags": [],
            "needs_background": "light"
          }
        }
      ]
    },
    {
      "cell_type": "markdown",
      "metadata": {
        "id": "Iq8wgrPX00k5"
      },
      "source": [
        "For optimal degree, mse is low and desirable for testing. This can also be seen in the near-true prediction in test data."
      ]
    }
  ]
}